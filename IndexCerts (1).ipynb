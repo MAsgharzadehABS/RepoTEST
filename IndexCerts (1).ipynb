{
  "cells": [
    {
      "cell_type": "code",
      "source": [
        "import pandas as pd\n",
        "cdf = pd.read_parquet(\"abs_type_approvals.parquet\")\n",
        "cdf.info()"
      ],
      "outputs": [
        {
          "output_type": "display_data",
          "data": {
            "application/vnd.livy.statement-meta+json": {
              "spark_pool": "55aa7293-6613-4fd9-bd05-89ce79d2509a",
              "session_id": "0",
              "statement_id": 6,
              "state": "finished",
              "livy_statement_state": "available",
              "queued_time": "2023-07-12T17:49:49.1377992Z",
              "session_start_time": "2023-07-12T17:49:49.1392955Z",
              "execution_start_time": "2023-07-12T17:53:35.4724701Z",
              "execution_finish_time": "2023-07-12T17:53:43.4435016Z",
              "spark_jobs": {
                "numbers": {
                  "UNKNOWN": 0,
                  "SUCCEEDED": 0,
                  "FAILED": 0,
                  "RUNNING": 0
                },
                "jobs": [],
                "limit": 20,
                "rule": "ALL_DESC"
              },
              "parent_msg_id": "41da3f33-c804-41c4-99b8-ac4e46bf3427"
            },
            "text/plain": "StatementMeta(55aa7293-6613-4fd9-bd05-89ce79d2509a, 0, 6, Finished, Available)"
          },
          "metadata": {}
        },
        {
          "output_type": "error",
          "ename": "FileNotFoundError",
          "evalue": "[Errno 2] No such file or directory: 'abs_type_approvals.parquet'",
          "traceback": [
            "\u001b[0;31m---------------------------------------------------------------------------\u001b[0m",
            "\u001b[0;31mFileNotFoundError\u001b[0m                         Traceback (most recent call last)",
            "\u001b[0;32m/tmp/ipykernel_8510/107788959.py\u001b[0m in \u001b[0;36m<module>\u001b[0;34m\u001b[0m\n\u001b[1;32m      1\u001b[0m \u001b[0;32mimport\u001b[0m \u001b[0mpandas\u001b[0m \u001b[0;32mas\u001b[0m \u001b[0mpd\u001b[0m\u001b[0;34m\u001b[0m\u001b[0;34m\u001b[0m\u001b[0m\n\u001b[0;32m----> 2\u001b[0;31m \u001b[0mcdf\u001b[0m \u001b[0;34m=\u001b[0m \u001b[0mpd\u001b[0m\u001b[0;34m.\u001b[0m\u001b[0mread_parquet\u001b[0m\u001b[0;34m(\u001b[0m\u001b[0;34m\"abs_type_approvals.parquet\"\u001b[0m\u001b[0;34m)\u001b[0m\u001b[0;34m\u001b[0m\u001b[0;34m\u001b[0m\u001b[0m\n\u001b[0m\u001b[1;32m      3\u001b[0m \u001b[0mcdf\u001b[0m\u001b[0;34m.\u001b[0m\u001b[0minfo\u001b[0m\u001b[0;34m(\u001b[0m\u001b[0;34m)\u001b[0m\u001b[0;34m\u001b[0m\u001b[0;34m\u001b[0m\u001b[0m\n",
            "\u001b[0;32m~/cluster-env/env/lib/python3.8/site-packages/pandas/io/parquet.py\u001b[0m in \u001b[0;36mread_parquet\u001b[0;34m(path, engine, columns, use_nullable_dtypes, **kwargs)\u001b[0m\n\u001b[1;32m    457\u001b[0m     \"\"\"\n\u001b[1;32m    458\u001b[0m     \u001b[0mimpl\u001b[0m \u001b[0;34m=\u001b[0m \u001b[0mget_engine\u001b[0m\u001b[0;34m(\u001b[0m\u001b[0mengine\u001b[0m\u001b[0;34m)\u001b[0m\u001b[0;34m\u001b[0m\u001b[0;34m\u001b[0m\u001b[0m\n\u001b[0;32m--> 459\u001b[0;31m     return impl.read(\n\u001b[0m\u001b[1;32m    460\u001b[0m         \u001b[0mpath\u001b[0m\u001b[0;34m,\u001b[0m \u001b[0mcolumns\u001b[0m\u001b[0;34m=\u001b[0m\u001b[0mcolumns\u001b[0m\u001b[0;34m,\u001b[0m \u001b[0muse_nullable_dtypes\u001b[0m\u001b[0;34m=\u001b[0m\u001b[0muse_nullable_dtypes\u001b[0m\u001b[0;34m,\u001b[0m \u001b[0;34m**\u001b[0m\u001b[0mkwargs\u001b[0m\u001b[0;34m\u001b[0m\u001b[0;34m\u001b[0m\u001b[0m\n\u001b[1;32m    461\u001b[0m     )\n",
            "\u001b[0;32m~/cluster-env/env/lib/python3.8/site-packages/pandas/io/parquet.py\u001b[0m in \u001b[0;36mread\u001b[0;34m(self, path, columns, use_nullable_dtypes, storage_options, **kwargs)\u001b[0m\n\u001b[1;32m    212\u001b[0m                 )\n\u001b[1;32m    213\u001b[0m \u001b[0;34m\u001b[0m\u001b[0m\n\u001b[0;32m--> 214\u001b[0;31m         path_or_handle, handles, kwargs[\"filesystem\"] = _get_path_or_handle(\n\u001b[0m\u001b[1;32m    215\u001b[0m             \u001b[0mpath\u001b[0m\u001b[0;34m,\u001b[0m\u001b[0;34m\u001b[0m\u001b[0;34m\u001b[0m\u001b[0m\n\u001b[1;32m    216\u001b[0m             \u001b[0mkwargs\u001b[0m\u001b[0;34m.\u001b[0m\u001b[0mpop\u001b[0m\u001b[0;34m(\u001b[0m\u001b[0;34m\"filesystem\"\u001b[0m\u001b[0;34m,\u001b[0m \u001b[0;32mNone\u001b[0m\u001b[0;34m)\u001b[0m\u001b[0;34m,\u001b[0m\u001b[0;34m\u001b[0m\u001b[0;34m\u001b[0m\u001b[0m\n",
            "\u001b[0;32m~/cluster-env/env/lib/python3.8/site-packages/pandas/io/parquet.py\u001b[0m in \u001b[0;36m_get_path_or_handle\u001b[0;34m(path, fs, storage_options, mode, is_dir)\u001b[0m\n\u001b[1;32m     80\u001b[0m         \u001b[0;31m# fsspec resources can also point to directories\u001b[0m\u001b[0;34m\u001b[0m\u001b[0;34m\u001b[0m\u001b[0;34m\u001b[0m\u001b[0m\n\u001b[1;32m     81\u001b[0m         \u001b[0;31m# this branch is used for example when reading from non-fsspec URLs\u001b[0m\u001b[0;34m\u001b[0m\u001b[0;34m\u001b[0m\u001b[0;34m\u001b[0m\u001b[0m\n\u001b[0;32m---> 82\u001b[0;31m         \u001b[0mhandles\u001b[0m \u001b[0;34m=\u001b[0m \u001b[0mget_handle\u001b[0m\u001b[0;34m(\u001b[0m\u001b[0mpath_or_handle\u001b[0m\u001b[0;34m,\u001b[0m \u001b[0mmode\u001b[0m\u001b[0;34m,\u001b[0m \u001b[0mis_text\u001b[0m\u001b[0;34m=\u001b[0m\u001b[0;32mFalse\u001b[0m\u001b[0;34m)\u001b[0m\u001b[0;34m\u001b[0m\u001b[0;34m\u001b[0m\u001b[0m\n\u001b[0m\u001b[1;32m     83\u001b[0m         \u001b[0mfs\u001b[0m \u001b[0;34m=\u001b[0m \u001b[0;32mNone\u001b[0m\u001b[0;34m\u001b[0m\u001b[0;34m\u001b[0m\u001b[0m\n\u001b[1;32m     84\u001b[0m         \u001b[0mpath_or_handle\u001b[0m \u001b[0;34m=\u001b[0m \u001b[0mhandles\u001b[0m\u001b[0;34m.\u001b[0m\u001b[0mhandle\u001b[0m\u001b[0;34m\u001b[0m\u001b[0;34m\u001b[0m\u001b[0m\n",
            "\u001b[0;32m~/cluster-env/env/lib/python3.8/site-packages/pandas/io/common.py\u001b[0m in \u001b[0;36mget_handle\u001b[0;34m(path_or_buf, mode, encoding, compression, memory_map, is_text, errors, storage_options)\u001b[0m\n\u001b[1;32m    649\u001b[0m         \u001b[0;32melse\u001b[0m\u001b[0;34m:\u001b[0m\u001b[0;34m\u001b[0m\u001b[0;34m\u001b[0m\u001b[0m\n\u001b[1;32m    650\u001b[0m             \u001b[0;31m# Binary mode\u001b[0m\u001b[0;34m\u001b[0m\u001b[0;34m\u001b[0m\u001b[0;34m\u001b[0m\u001b[0m\n\u001b[0;32m--> 651\u001b[0;31m             \u001b[0mhandle\u001b[0m \u001b[0;34m=\u001b[0m \u001b[0mopen\u001b[0m\u001b[0;34m(\u001b[0m\u001b[0mhandle\u001b[0m\u001b[0;34m,\u001b[0m \u001b[0mioargs\u001b[0m\u001b[0;34m.\u001b[0m\u001b[0mmode\u001b[0m\u001b[0;34m)\u001b[0m\u001b[0;34m\u001b[0m\u001b[0;34m\u001b[0m\u001b[0m\n\u001b[0m\u001b[1;32m    652\u001b[0m         \u001b[0mhandles\u001b[0m\u001b[0;34m.\u001b[0m\u001b[0mappend\u001b[0m\u001b[0;34m(\u001b[0m\u001b[0mhandle\u001b[0m\u001b[0;34m)\u001b[0m\u001b[0;34m\u001b[0m\u001b[0;34m\u001b[0m\u001b[0m\n\u001b[1;32m    653\u001b[0m \u001b[0;34m\u001b[0m\u001b[0m\n",
            "\u001b[0;31mFileNotFoundError\u001b[0m: [Errno 2] No such file or directory: 'abs_type_approvals.parquet'"
          ]
        }
      ],
      "execution_count": 1,
      "metadata": {
        "gather": {
          "logged": 1689184423763
        }
      },
      "id": "5541b0e8"
    },
    {
      "cell_type": "code",
      "source": [
        "cdf['category'].unique()"
      ],
      "outputs": [
        {
          "output_type": "execute_result",
          "execution_count": 42,
          "data": {
            "text/plain": "array([None, 'Design Assessed', 'Type Approved', 'EC Type Examined',\n       'Wheelmarked'], dtype=object)"
          },
          "metadata": {}
        }
      ],
      "execution_count": 42,
      "metadata": {},
      "id": "7d286870"
    },
    {
      "cell_type": "code",
      "source": [
        "import base64, hashlib\n",
        "def hash(x):\n",
        "  return \"id-\" + base64.urlsafe_b64encode(hashlib.sha1(x).digest()).decode(\"utf-8\") "
      ],
      "outputs": [],
      "execution_count": 3,
      "metadata": {},
      "id": "5ef3bd8e"
    },
    {
      "cell_type": "code",
      "source": [
        "import json\n",
        "import requests\n",
        "from pprint import pprint"
      ],
      "outputs": [],
      "execution_count": 4,
      "metadata": {},
      "id": "5caafb47"
    },
    {
      "cell_type": "code",
      "source": [
        "endpoint = 'https://gptkb-r5e7unxol46om.search.windows.net/'\n",
        "api_version = '?api-version=2019-05-06'\n",
        "headers = {'Content-Type': 'application/json',\n",
        "        'api-key': 'kxgH5lLlChcWrsiGObjpjIrvwednYcUOaFgiZ12NXYAzSeBrN9g8' }"
      ],
      "outputs": [],
      "execution_count": 5,
      "metadata": {},
      "id": "1169bb37"
    },
    {
      "cell_type": "code",
      "source": [
        "with open('typeapprovalindex.json') as json_file:\n",
        "    index_schema = json.load(json_file)"
      ],
      "outputs": [],
      "execution_count": 11,
      "metadata": {},
      "id": "7c855dc9"
    },
    {
      "cell_type": "code",
      "source": [
        "index_name=\"typeapprovalindex\""
      ],
      "outputs": [],
      "execution_count": 7,
      "metadata": {},
      "id": "0e710e6f"
    },
    {
      "cell_type": "code",
      "source": [
        "url = endpoint + \"indexes/\" + index_name + api_version\n",
        "response  = requests.delete(url, headers=headers)\n",
        "print(response)"
      ],
      "outputs": [
        {
          "output_type": "stream",
          "name": "stdout",
          "text": "<Response [204]>\n"
        }
      ],
      "execution_count": 8,
      "metadata": {},
      "id": "8cc5c936"
    },
    {
      "cell_type": "code",
      "source": [
        "url = endpoint + \"indexes\" + api_version\n",
        "response  = requests.post(url, headers=headers, json=index_schema)\n",
        "index = response.json()\n",
        "pprint(index)"
      ],
      "outputs": [],
      "execution_count": null,
      "metadata": {},
      "id": "2f4ed0e1"
    },
    {
      "cell_type": "code",
      "source": [
        "url = endpoint + \"indexes\" + api_version + \"&$select=name\"\n",
        "response  = requests.get(url, headers=headers)\n",
        "index_list = response.json()\n",
        "pprint(index_list)"
      ],
      "outputs": [],
      "execution_count": null,
      "metadata": {},
      "id": "63952d32"
    },
    {
      "cell_type": "code",
      "source": [
        "def ingest_docs(doc_df):\n",
        "    doc_df = doc_df.fillna('')\n",
        "    documents = {\"value\": doc_df.to_dict(orient=\"records\")}\n",
        "    url = endpoint + \"indexes/\" + index_name +\"/docs/index\" + api_version\n",
        "    response  = requests.post(url, headers=headers, json=documents)\n",
        "    response_df = pd.DataFrame.from_dict(response.json())\n",
        "    return response_df"
      ],
      "outputs": [],
      "execution_count": null,
      "metadata": {},
      "id": "76cb9a25"
    },
    {
      "cell_type": "code",
      "source": [
        "cdf.head()"
      ],
      "outputs": [],
      "execution_count": null,
      "metadata": {},
      "id": "b5a3503d"
    },
    {
      "cell_type": "code",
      "source": [
        "# id = modelCertId\n",
        "# content = product + description + absRules + ratings\n",
        "# category = category\n",
        "# sourcepage = companyname + address1 + country\n",
        "# sourcefile = certificateNumber\n",
        "# issuedate = issueDate\n",
        "# expirydate = expirydate"
      ],
      "outputs": [],
      "execution_count": 16,
      "metadata": {},
      "id": "aa80d0a2"
    },
    {
      "cell_type": "code",
      "source": [
        "search_df = cdf[['modelcertId', 'product', 'description', 'absRules', 'ratings', 'category', 'companyname', 'address1', 'country', 'certificateNumber', 'issueDate', 'expirydate']]\n",
        "content_cols = ['product', 'description', 'absRules', 'ratings']\n",
        "company_cols = ['companyname', 'address1', 'country']\n",
        "search_df['content'] = search_df[content_cols].apply(lambda row: ' || '.join(row.values.astype(str)), axis=1)\n",
        "search_df['company'] = search_df[company_cols].apply(lambda row: ', '.join(row.values.astype(str)), axis=1)\n",
        "search_df = search_df.drop(content_cols, axis=1)\n",
        "search_df = search_df.drop(company_cols, axis=1)\n",
        "search_df = search_df.rename(columns={'modelcertId': 'id', 'company': 'sourcepage', 'certificateNumber': 'sourcefile', 'issueDate': 'issuedate'})\n",
        "search_df = search_df.dropna(subset=['issuedate', 'expirydate'])\n",
        "search_df['issuedate'] = search_df['issuedate'].map(lambda x: x.strftime('%Y-%m-%dT%H:%M:%SZ'))\n",
        "search_df['expirydate'] = search_df['expirydate'].map(lambda x: x.strftime('%Y-%m-%dT%H:%M:%SZ'))\n",
        "search_df['id'] = search_df['id'].astype(str)\n",
        "search_df.head()"
      ],
      "outputs": [],
      "execution_count": null,
      "metadata": {},
      "id": "033c5431"
    },
    {
      "cell_type": "code",
      "source": [
        "search_df[\"@search.action\"] = \"upload\""
      ],
      "outputs": [],
      "execution_count": 37,
      "metadata": {},
      "id": "d886a240"
    },
    {
      "cell_type": "code",
      "source": [
        "search_df.info()"
      ],
      "outputs": [],
      "execution_count": null,
      "metadata": {},
      "id": "40521c2b"
    },
    {
      "cell_type": "code",
      "source": [
        "import numpy as np\n",
        "partitions = 1000\n",
        "data_splits = np.array_split(search_df, partitions)\n",
        "for data_split in data_splits: \n",
        "    doc_df = data_split.fillna('')\n",
        "    documents = {\"value\": doc_df.to_dict(orient=\"records\")}\n",
        "    url = endpoint + \"indexes/\" + index_name +\"/docs/index\" + api_version\n",
        "    response  = requests.post(url, headers=headers, json=documents)\n",
        "    #print(response.json())\n",
        "    #break\n",
        "    "
      ],
      "outputs": [],
      "execution_count": 39,
      "metadata": {},
      "id": "65a7ed62"
    },
    {
      "cell_type": "code",
      "source": [
        "search_df.to_parquet(\"typeapprovaldata.parquet\")"
      ],
      "outputs": [],
      "execution_count": 40,
      "metadata": {},
      "id": "dc452cc7"
    },
    {
      "cell_type": "code",
      "source": [],
      "outputs": [],
      "execution_count": null,
      "metadata": {},
      "id": "501cf3e9"
    }
  ],
  "metadata": {
    "kernelspec": {
      "name": "synapse_pyspark",
      "language": "Python",
      "display_name": "Synapse PySpark"
    },
    "language_info": {
      "name": "python",
      "version": "3.8.0",
      "mimetype": "text/x-python",
      "file_extension": ".py",
      "pygments_lexer": "ipython",
      "codemirror_mode": "ipython",
      "nbconvert_exporter": "python"
    },
    "microsoft": {
      "ms_spell_check": {
        "ms_spell_check_language": "en"
      }
    },
    "nteract": {
      "version": "nteract-front-end@1.0.0"
    },
    "kernel_info": {
      "name": "synapse_pyspark"
    }
  },
  "nbformat": 4,
  "nbformat_minor": 5
}